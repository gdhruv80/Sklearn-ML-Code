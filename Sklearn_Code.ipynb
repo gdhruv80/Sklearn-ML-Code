{
 "cells": [
  {
   "cell_type": "markdown",
   "metadata": {},
   "source": [
    "Preprocessing - Scaling all variables"
   ]
  },
  {
   "cell_type": "code",
   "execution_count": null,
   "metadata": {
    "collapsed": true
   },
   "outputs": [],
   "source": [
    "from sklearn.preprocessing import MinMaxScaler\n",
    "df = pd.DataFrame({'b':range(1,5),'c':range(11,15)})\n",
    "\n",
    "# Convert the dataframe to matrix and scale\n",
    "X_train = MinMaxScaler().fit_transform(pd.DataFrame(df).as_matrix()) # Creates a object of the minmaxscaler class\n",
    "print pd.DataFrame(df).as_matrix()         # whose function fit_transform we use to transform the data\n",
    "print X_train                              # from a matrix to a scaled matrix vertically (column wise)\n",
    "\n",
    "                                           # In case of single col you need to conver from 1-D array to \n",
    "                                           # column vector before using fit_transform as it always takes a 2-D array  "
   ]
  },
  {
   "cell_type": "markdown",
   "metadata": {},
   "source": [
    "General Code for running multiple models, outputting AUC curve, accuracy and variable importance values"
   ]
  },
  {
   "cell_type": "code",
   "execution_count": null,
   "metadata": {
    "collapsed": true
   },
   "outputs": [],
   "source": [
    "# build the model for test data\n",
    "gbc = GradientBoostingClassifier(random_state=123)\n",
    "rf = RandomForestClassifier(n_estimators=30,max_depth=10,random_state=123)\n",
    "lr = LogisticRegression(penalty='l1',tol=0.01)\n",
    "# plot the ROC curve\n",
    "%matplotlib inline\n",
    "plt.figure()\n",
    "plt.plot([0,1],[0,1],color='navy',lw=2,linestyle='--')\n",
    "plt.xlim([0,1])\n",
    "plt.ylim([0,1.05])\n",
    "for model,name in [(gbc,'Gradient Boosting Classifier'),(rf,'Random Forest'),(lr,'Lasso Logistic Regression')]:\n",
    "    model.fit(X_train,Y_train,sample_weight=weight_train)\n",
    "    Y_predict = model.predict(X_test)\n",
    "    Y_predict_prob = model.predict_proba(X_test)[:,1]\n",
    "    # print the accuracy of the prediction\n",
    "    print \"The accuracy score of \" + name + \" is: \" + str(model.score(X_test,Y_test,sample_weight=weight_test))\n",
    "    fpr,tpr,thresholds = metrics.roc_curve(Y_test,Y_predict_prob,pos_label=1,sample_weight=weight_test)\n",
    "    plt.plot(fpr,tpr,lw=2,label=name)\n",
    "    # obtain the ROC score\n",
    "    print \"The AUC area of \" + name + \" is: \" + str(metrics.roc_auc_score(Y_test,Y_predict_prob,sample_weight=weight_test))\n",
    "   \n",
    "    if name == 'Lasso Logistic Regression':\n",
    "        Y_predict_prob_lr = Y_predict_prob\n",
    "        print \"The variable importance from Lasso Logistic Regression:\"\n",
    "        # get the coefficient of the linear regression\n",
    "        coeff = model.coef_.flatten().tolist()\n",
    "        coeff = map(abs,coeff)\n",
    "        coeff_dict={}\n",
    "        for i in range(len(coeff)):\n",
    "            coeff_dict[cols_name[i]]=coeff[i]\n",
    "        sorted_coeff_dict = sorted(coeff_dict.items(),key=operator.itemgetter((1)),reverse=True)\n",
    "#         for x in sorted_coeff_dict:\n",
    "#            print x\n",
    "    if name == 'Random Forest':\n",
    "        Y_predict_prob_rf = Y_predict_prob\n",
    "        print \"The variable importance from Random Forest:\"\n",
    "        coeff = model.feature_importances_.flatten().tolist()\n",
    "        coeff = map(abs,coeff)\n",
    "        coeff_dict={}\n",
    "        for i in range(len(coeff)):\n",
    "            coeff_dict[cols_name[i]]=coeff[i]\n",
    "        sorted_coeff_dict = sorted(coeff_dict.items(),key=operator.itemgetter((1)),reverse=True)\n",
    "        for x in sorted_coeff_dict:\n",
    "            print x\n",
    "    if name == 'Gradient Boosting Classifier':\n",
    "        Y_predict_prob_gbc = Y_predict_prob\n",
    "plt.xlabel('False Positive Rate')\n",
    "plt.ylabel('True Positive Rate')\n",
    "plt.title('Receiver operating characteristic graph')\n",
    "plt.legend(loc=\"lower right\")"
   ]
  }
 ],
 "metadata": {
  "kernelspec": {
   "display_name": "Python 2",
   "language": "python",
   "name": "python2"
  },
  "language_info": {
   "codemirror_mode": {
    "name": "ipython",
    "version": 2
   },
   "file_extension": ".py",
   "mimetype": "text/x-python",
   "name": "python",
   "nbconvert_exporter": "python",
   "pygments_lexer": "ipython2",
   "version": "2.7.14"
  }
 },
 "nbformat": 4,
 "nbformat_minor": 2
}
